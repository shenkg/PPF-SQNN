{
 "cells": [
  {
   "cell_type": "code",
   "execution_count": 1,
   "metadata": {},
   "outputs": [],
   "source": [
    "device = \"cpu\"\n",
    "import os,torch,idx2numpy,pytorch_spiking,time\n",
    "import torchvision\n",
    "import torchvision.transforms as transforms\n",
    "import torch.nn as nn\n",
    "import pennylane as qml\n",
    "from tqdm import tqdm\n",
    "from pennylane import numpy as np\n",
    "torch.manual_seed(0)\n",
    "np.random.seed(0)\n",
    "batch = 100\n",
    "os.environ[\"OMP_NUM_THREADS\"] = \"16\""
   ]
  },
  {
   "cell_type": "code",
   "execution_count": 2,
   "metadata": {},
   "outputs": [],
   "source": [
    "data_path = './raw/'  # ta\" if torch.cuda.is_available() else \"cpu\")\n",
    "device = torch.device(\"cpu\" if torch.cuda.is_available() else \"cuda\")\n",
    "train_dataset = torchvision.datasets.FashionMNIST(root=data_path, train=True, download=True, transform=transforms.ToTensor())\n",
    "train_loader = torch.utils.data.DataLoader(train_dataset, batch_size=batch, shuffle=True, num_workers=0)\n",
    "\n",
    "test_set = torchvision.datasets.FashionMNIST(root=data_path, train=False, download=True, transform=transforms.ToTensor())\n",
    "test_loader = torch.utils.data.DataLoader(test_set, batch_size=batch, shuffle=False, num_workers=0)\n",
    "train_images = []\n",
    "train_labels = []\n",
    "for image, label in train_dataset:\n",
    "    train_images.append(image.numpy())  # Convert image tensor to numpy array\n",
    "    train_labels.append(label)\n",
    "\n",
    "# Step 2: Process image data (optional: normalization)\n",
    "train_images = np.array(train_images)  # Convert list of arrays to numpy array\n",
    "train_images = train_images.astype(np.float32) / 255.0  # Normalize image data\n",
    "\n",
    "# Step 3: Optionally, split or further process the data\n",
    "# For example, if you want to split the data into train_sequences and test_sequences:\n",
    "split = np.array_split(train_images, [int(len(train_images) * 0.7)])   \n",
    "train_sequences = split[0]\n",
    "test_sequences = split[1]\n",
    "split = np.array_split(train_labels,[int(len(train_labels)*0.7)])\n",
    "train_labels = split[0]\n",
    "test_labels = split[1]\n",
    "\n",
    "# repeat the images for n_steps\n",
    "n_steps = 10\n",
    "datalength = 8000\n",
    "train_sequences = np.tile(train_sequences[:, None], (1, n_steps, 1, 1))[:datalength]  \n",
    "test_sequences = np.tile(test_sequences[:, None], (1, n_steps, 1, 1))\n",
    "train_labels = train_labels[:datalength]\n",
    "test_labels = test_labels"
   ]
  },
  {
   "cell_type": "code",
   "execution_count": null,
   "metadata": {},
   "outputs": [],
   "source": [
    "                            "
   ]
  },
  {
   "cell_type": "code",
   "execution_count": 3,
   "metadata": {},
   "outputs": [
    {
     "data": {
      "text/plain": [
       "Sequential(\n",
       "  (0): Linear(in_features=784, out_features=128, bias=True)\n",
       "  (1): SpikingActivation(\n",
       "    (activation): ReLU()\n",
       "  )\n",
       "  (2): TemporalAvgPool()\n",
       "  (3): Linear(in_features=128, out_features=10, bias=True)\n",
       ")"
      ]
     },
     "metadata": {},
     "output_type": "display_data"
    }
   ],
   "source": [
    "spiking_model = torch.nn.Sequential(\n",
    "    torch.nn.Linear(784, 128),       \n",
    "    pytorch_spiking.SpikingActivation(torch.nn.ReLU(), spiking_aware_training=True,dt=0.01),     \n",
    "    # use average pooling layer to average spiking output over time\n",
    "    pytorch_spiking.TemporalAvgPool(),      \n",
    "    torch.nn.Linear(128, 10),        \n",
    ")\n",
    "display(spiking_model)"
   ]
  },
  {
   "cell_type": "code",
   "execution_count": 4,
   "metadata": {},
   "outputs": [],
   "source": [
    "#define quantum parameters\n",
    "n_qubits = 5         \n",
    "nqubits=n_qubits\n",
    "batch_size = 4              \n",
    "num_epochs = 1           \n",
    "q_depth = 2            \n",
    "q_delta = 0.01              \n",
    "start_time = time.time()    \n",
    "tensor_length = n_qubits*(n_qubits-1)*q_depth+n_qubits"
   ]
  },
  {
   "cell_type": "code",
   "execution_count": 5,
   "metadata": {},
   "outputs": [],
   "source": [
    "def H_layer(nqubits):\n",
    "    for idx in range(nqubits):\n",
    "        qml.Hadamard(wires=idx)\n",
    "\n",
    "def RZ_layer(w):\n",
    "    for idx, element in enumerate(w):   \n",
    "        qml.RZ(element, wires=idx)      \n",
    "\n",
    "def RY_layer(w):\n",
    "    for idx, element in enumerate(w):   \n",
    "        qml.RY(element, wires=idx)   \n",
    "\n",
    "def RX_layer(w):\n",
    "    for idx, element in enumerate(w):   \n",
    "        qml.RX(element, wires=idx)  \n",
    "                \n",
    "def entangling_layer(nqubits,weights):\n",
    "    p = nqubits\n",
    "    weights_ = (weight for weight in weights)    \n",
    "    for i in range(1,nqubits):\n",
    "        param = next(weights_)\n",
    "        if i == 1:\n",
    "            qml.CNOT(wires=[0,i])\n",
    "            qml.RX(param, wires=i)\n",
    "            p+=1   \n",
    "            param = next(weights_)\n",
    "            qml.CNOT(wires=[0,i])\n",
    "\n",
    "        if i == 2:\n",
    "            qml.CNOT(wires=[0,i])\n",
    "            qml.RY(param, wires=i)\n",
    "            p+=1                       \n",
    "            param = next(weights_)\n",
    "            qml.CNOT(wires=[0,i])\n",
    "\n",
    "        if i == 3:\n",
    "            qml.CNOT(wires=[0,i])\n",
    "            qml.RZ(param, wires=i)\n",
    "            p+=1   \n",
    "            qml.CNOT(wires=[0,i])\n",
    "\n",
    "        if i == 4:\n",
    "            qml.CNOT(wires=[0,i])\n",
    "            qml.RX(param, wires=i)\n",
    "            p+=1   \n",
    "            qml.CNOT(wires=[0,i])"
   ]
  },
  {
   "cell_type": "code",
   "execution_count": 6,
   "metadata": {},
   "outputs": [
    {
     "name": "stdout",
     "output_type": "stream",
     "text": [
      "0: ──RY(0.00)─╭●───────────╭●─╭●───────────╭●─╭●───────────╭●─╭●───────────╭●─┤  <Z>\n",
      "1: ──RY(0.00)─╰X──RX(0.55)─╰X─│────────────│──│────────────│──│────────────│──┤     \n",
      "2: ──RY(0.00)─────────────────╰X──RY(0.60)─╰X─│────────────│──│────────────│──┤     \n",
      "3: ──RY(0.00)─────────────────────────────────╰X──RZ(0.42)─╰X─│────────────│──┤     \n",
      "4: ──RY(0.00)─────────────────────────────────────────────────╰X──RX(0.65)─╰X─┤     \n"
     ]
    }
   ],
   "source": [
    "dev = qml.device(\"default.qubit\", wires=n_qubits)\n",
    "@qml.qnode(dev, interface=\"torch\")\n",
    "\n",
    "def quantum_net(q_input_features, q_weights_flat):\n",
    "    q_weights = q_weights_flat\n",
    "    RY_layer(q_input_features)\n",
    "    entangling_layer(nqubits,q_weights)\n",
    "    exp_vals = [qml.expval(qml.PauliZ(position)) for position in range(1)]      \n",
    "\n",
    "    return tuple(exp_vals)    \n",
    "    \n",
    "class DressedQuantumNet(nn.Module):\n",
    "    def __init__(self):\n",
    "        super().__init__()\n",
    "        self.pre_net = nn.Linear(128, n_qubits)      \n",
    "        self.q_params = nn.Parameter(q_delta * torch.randn(tensor_length))       \n",
    "        self.post_net = nn.Linear(1, 10)       \n",
    "\n",
    "    def forward(self, input_features):\n",
    "        pre_out = self.pre_net(input_features)       \n",
    "        q_in = torch.tanh(pre_out) * np.pi / 2.0     \n",
    "        q_out = torch.Tensor(0, 1)      \n",
    "        q_out = q_out.to(device)               \n",
    "        for elem in q_in:\n",
    "            q_out_elem = quantum_net(elem, self.q_params).float().unsqueeze(0)    \n",
    "            q_out = torch.cat((q_out, q_out_elem))    \n",
    "\n",
    "        return self.post_net(q_out)      \n",
    "\n",
    "print(qml.draw(quantum_net)([0,0,0,0,0],np.random.rand(tensor_length)))"
   ]
  },
  {
   "cell_type": "code",
   "execution_count": 7,
   "metadata": {},
   "outputs": [
    {
     "data": {
      "text/plain": [
       "Sequential(\n",
       "  (0): Linear(in_features=784, out_features=128, bias=True)\n",
       "  (1): SpikingActivation(\n",
       "    (activation): ReLU()\n",
       "  )\n",
       "  (2): TemporalAvgPool()\n",
       "  (3): Linear(in_features=128, out_features=128, bias=True)\n",
       "  (fc): DressedQuantumNet(\n",
       "    (pre_net): Linear(in_features=128, out_features=5, bias=True)\n",
       "    (post_net): Linear(in_features=1, out_features=10, bias=True)\n",
       "  )\n",
       ")"
      ]
     },
     "metadata": {},
     "output_type": "display_data"
    }
   ],
   "source": [
    "quantum_model = torch.nn.Sequential(\n",
    "    torch.nn.Linear(784, 128),       \n",
    "    pytorch_spiking.SpikingActivation(torch.nn.ReLU(), spiking_aware_training=True,dt=0.01),     \n",
    "    # use average pooling layer to average spiking output over time\n",
    "    pytorch_spiking.TemporalAvgPool(),      \n",
    "    torch.nn.Linear(128, 128),        \n",
    ")\n",
    "quantum_model.fc = DressedQuantumNet()   \n",
    "display(quantum_model)"
   ]
  },
  {
   "cell_type": "code",
   "execution_count": 8,
   "metadata": {},
   "outputs": [],
   "source": [
    "def train(input_model, q_input_model, train_x, test_x):\n",
    "    minibatch_size = 32\n",
    "    optimizer = torch.optim.Adam(input_model.parameters())   \n",
    "    optimizer = torch.optim.Adam(q_input_model.parameters())\n",
    "\n",
    "    input_model.train()\n",
    "    q_input_model.train()\n",
    "\n",
    "    for j in range(101):\n",
    "        train_acc = 0\n",
    "        loss_acc = 0\n",
    "        #cm = np.zeros((10, 10), dtype=np.int32)\n",
    "        for i in tqdm(range(train_x.shape[0] // minibatch_size)):     \n",
    "            input_model.zero_grad()    \n",
    "            q_input_model.zero_grad()\n",
    "\n",
    "            batch_in = train_x[i * minibatch_size : (i + 1) * minibatch_size]   \n",
    "            # flatten images\n",
    "            batch_in = batch_in.reshape((-1,) + train_x.shape[1:-2] + (784,))   \n",
    "            batch_label = train_labels[i * minibatch_size : (i + 1) * minibatch_size]\n",
    "            s_out = input_model(torch.tensor(batch_in))     \n",
    "            q_out = q_input_model(torch.tensor(batch_in))\n",
    "            output = s_out*0.4 + q_out*0.6\n",
    "            logp = torch.nn.functional.log_softmax(output, dim=-1) \n",
    "            batch_label = batch_label.astype(np.int64)                   \n",
    "            logpy = torch.gather(logp, 1, torch.tensor(batch_label).view(-1, 1))  \n",
    "            loss = -logpy.mean()    \n",
    "            loss_acc += loss \n",
    " \n",
    "            \n",
    "            loss.backward()   \n",
    "            optimizer.step()\n",
    "        \n",
    "            train_acc += torch.mean(\n",
    "                torch.eq(torch.argmax(output, dim=1), torch.tensor(batch_label)).float()   \n",
    "            )\n",
    "        train_acc /= i + 1\n",
    "        print(\"Train accuracy (%d): \" % j, train_acc.numpy())    \n",
    "        loss_acc /=i + 1\n",
    "        print(\"Loss (%d): \" % j, loss_acc.detach().numpy())\n",
    "        # compute test accuracy\n",
    "        input_model.eval()                             \n",
    "        q_input_model.eval()\n",
    "\n",
    "        test_acc = 0\n",
    "        for i in range(test_x.shape[0] // minibatch_size):\n",
    "            batch_in = test_x[i * minibatch_size : (i + 1) * minibatch_size]\n",
    "            batch_in = batch_in.reshape((-1,) + test_x.shape[1:-2] + (784,))\n",
    "            batch_label = test_labels[i * minibatch_size : (i + 1) * minibatch_size]\n",
    "            s_out = input_model(torch.tensor(batch_in))     \n",
    "            q_out = q_input_model(torch.tensor(batch_in))\n",
    "            output = s_out*0.4 + q_out*0.6\n",
    "\n",
    "            test_acc += torch.mean(\n",
    "                torch.eq(torch.argmax(output, dim=1), torch.tensor(batch_label)).float()\n",
    "        )\n",
    "        test_acc /= i + 1\n",
    "        print(\"Test accuracy:\", test_acc.numpy())"
   ]
  },
  {
   "cell_type": "code",
   "execution_count": 9,
   "metadata": {},
   "outputs": [
    {
     "name": "stderr",
     "output_type": "stream",
     "text": [
      "  0%|          | 0/250 [00:00<?, ?it/s]\n"
     ]
    },
    {
     "ename": "RuntimeError",
     "evalue": "The size of tensor a (10) must match the size of tensor b (128) at non-singleton dimension 2",
     "output_type": "error",
     "traceback": [
      "\u001b[1;31m---------------------------------------------------------------------------\u001b[0m",
      "\u001b[1;31mRuntimeError\u001b[0m                              Traceback (most recent call last)",
      "Cell \u001b[1;32mIn[9], line 1\u001b[0m\n\u001b[1;32m----> 1\u001b[0m train(spiking_model, quantum_model, train_sequences, test_sequences)\n",
      "Cell \u001b[1;32mIn[8], line 21\u001b[0m, in \u001b[0;36mtrain\u001b[1;34m(input_model, q_input_model, train_x, test_x)\u001b[0m\n\u001b[0;32m     19\u001b[0m batch_in \u001b[39m=\u001b[39m batch_in\u001b[39m.\u001b[39mreshape((\u001b[39m-\u001b[39m\u001b[39m1\u001b[39m,) \u001b[39m+\u001b[39m train_x\u001b[39m.\u001b[39mshape[\u001b[39m1\u001b[39m:\u001b[39m-\u001b[39m\u001b[39m2\u001b[39m] \u001b[39m+\u001b[39m (\u001b[39m784\u001b[39m,))   \n\u001b[0;32m     20\u001b[0m batch_label \u001b[39m=\u001b[39m train_labels[i \u001b[39m*\u001b[39m minibatch_size : (i \u001b[39m+\u001b[39m \u001b[39m1\u001b[39m) \u001b[39m*\u001b[39m minibatch_size]\n\u001b[1;32m---> 21\u001b[0m s_out \u001b[39m=\u001b[39m input_model(torch\u001b[39m.\u001b[39;49mtensor(batch_in))     \n\u001b[0;32m     22\u001b[0m q_out \u001b[39m=\u001b[39m q_input_model(torch\u001b[39m.\u001b[39mtensor(batch_in))\n\u001b[0;32m     23\u001b[0m output \u001b[39m=\u001b[39m s_out\u001b[39m*\u001b[39m\u001b[39m0.4\u001b[39m \u001b[39m+\u001b[39m q_out\u001b[39m*\u001b[39m\u001b[39m0.6\u001b[39m\n",
      "File \u001b[1;32me:\\Anaconda\\envs\\pytorch\\lib\\site-packages\\torch\\nn\\modules\\module.py:1501\u001b[0m, in \u001b[0;36mModule._call_impl\u001b[1;34m(self, *args, **kwargs)\u001b[0m\n\u001b[0;32m   1496\u001b[0m \u001b[39m# If we don't have any hooks, we want to skip the rest of the logic in\u001b[39;00m\n\u001b[0;32m   1497\u001b[0m \u001b[39m# this function, and just call forward.\u001b[39;00m\n\u001b[0;32m   1498\u001b[0m \u001b[39mif\u001b[39;00m \u001b[39mnot\u001b[39;00m (\u001b[39mself\u001b[39m\u001b[39m.\u001b[39m_backward_hooks \u001b[39mor\u001b[39;00m \u001b[39mself\u001b[39m\u001b[39m.\u001b[39m_backward_pre_hooks \u001b[39mor\u001b[39;00m \u001b[39mself\u001b[39m\u001b[39m.\u001b[39m_forward_hooks \u001b[39mor\u001b[39;00m \u001b[39mself\u001b[39m\u001b[39m.\u001b[39m_forward_pre_hooks\n\u001b[0;32m   1499\u001b[0m         \u001b[39mor\u001b[39;00m _global_backward_pre_hooks \u001b[39mor\u001b[39;00m _global_backward_hooks\n\u001b[0;32m   1500\u001b[0m         \u001b[39mor\u001b[39;00m _global_forward_hooks \u001b[39mor\u001b[39;00m _global_forward_pre_hooks):\n\u001b[1;32m-> 1501\u001b[0m     \u001b[39mreturn\u001b[39;00m forward_call(\u001b[39m*\u001b[39;49margs, \u001b[39m*\u001b[39;49m\u001b[39m*\u001b[39;49mkwargs)\n\u001b[0;32m   1502\u001b[0m \u001b[39m# Do not call functions when jit is used\u001b[39;00m\n\u001b[0;32m   1503\u001b[0m full_backward_hooks, non_full_backward_hooks \u001b[39m=\u001b[39m [], []\n",
      "File \u001b[1;32me:\\Anaconda\\envs\\pytorch\\lib\\site-packages\\torch\\nn\\modules\\container.py:217\u001b[0m, in \u001b[0;36mSequential.forward\u001b[1;34m(self, input)\u001b[0m\n\u001b[0;32m    215\u001b[0m \u001b[39mdef\u001b[39;00m \u001b[39mforward\u001b[39m(\u001b[39mself\u001b[39m, \u001b[39minput\u001b[39m):\n\u001b[0;32m    216\u001b[0m     \u001b[39mfor\u001b[39;00m module \u001b[39min\u001b[39;00m \u001b[39mself\u001b[39m:\n\u001b[1;32m--> 217\u001b[0m         \u001b[39minput\u001b[39m \u001b[39m=\u001b[39m module(\u001b[39minput\u001b[39;49m)\n\u001b[0;32m    218\u001b[0m     \u001b[39mreturn\u001b[39;00m \u001b[39minput\u001b[39m\n",
      "File \u001b[1;32me:\\Anaconda\\envs\\pytorch\\lib\\site-packages\\torch\\nn\\modules\\module.py:1501\u001b[0m, in \u001b[0;36mModule._call_impl\u001b[1;34m(self, *args, **kwargs)\u001b[0m\n\u001b[0;32m   1496\u001b[0m \u001b[39m# If we don't have any hooks, we want to skip the rest of the logic in\u001b[39;00m\n\u001b[0;32m   1497\u001b[0m \u001b[39m# this function, and just call forward.\u001b[39;00m\n\u001b[0;32m   1498\u001b[0m \u001b[39mif\u001b[39;00m \u001b[39mnot\u001b[39;00m (\u001b[39mself\u001b[39m\u001b[39m.\u001b[39m_backward_hooks \u001b[39mor\u001b[39;00m \u001b[39mself\u001b[39m\u001b[39m.\u001b[39m_backward_pre_hooks \u001b[39mor\u001b[39;00m \u001b[39mself\u001b[39m\u001b[39m.\u001b[39m_forward_hooks \u001b[39mor\u001b[39;00m \u001b[39mself\u001b[39m\u001b[39m.\u001b[39m_forward_pre_hooks\n\u001b[0;32m   1499\u001b[0m         \u001b[39mor\u001b[39;00m _global_backward_pre_hooks \u001b[39mor\u001b[39;00m _global_backward_hooks\n\u001b[0;32m   1500\u001b[0m         \u001b[39mor\u001b[39;00m _global_forward_hooks \u001b[39mor\u001b[39;00m _global_forward_pre_hooks):\n\u001b[1;32m-> 1501\u001b[0m     \u001b[39mreturn\u001b[39;00m forward_call(\u001b[39m*\u001b[39;49margs, \u001b[39m*\u001b[39;49m\u001b[39m*\u001b[39;49mkwargs)\n\u001b[0;32m   1502\u001b[0m \u001b[39m# Do not call functions when jit is used\u001b[39;00m\n\u001b[0;32m   1503\u001b[0m full_backward_hooks, non_full_backward_hooks \u001b[39m=\u001b[39m [], []\n",
      "File \u001b[1;32me:\\Anaconda\\envs\\pytorch\\lib\\site-packages\\pytorch_spiking\\modules.py:84\u001b[0m, in \u001b[0;36mSpikingActivation.forward\u001b[1;34m(self, inputs)\u001b[0m\n\u001b[0;32m     68\u001b[0m \u001b[39mdef\u001b[39;00m \u001b[39mforward\u001b[39m(\u001b[39mself\u001b[39m, inputs):\n\u001b[0;32m     69\u001b[0m \u001b[39m    \u001b[39m\u001b[39m\"\"\"Compute output spikes given inputs.\u001b[39;00m\n\u001b[0;32m     70\u001b[0m \n\u001b[0;32m     71\u001b[0m \u001b[39m    Parameters\u001b[39;00m\n\u001b[1;32m   (...)\u001b[0m\n\u001b[0;32m     82\u001b[0m \u001b[39m        emitted by that neuron on that time step.\u001b[39;00m\n\u001b[0;32m     83\u001b[0m \u001b[39m    \"\"\"\u001b[39;00m\n\u001b[1;32m---> 84\u001b[0m     \u001b[39mreturn\u001b[39;00m spiking_activation(\n\u001b[0;32m     85\u001b[0m         inputs,\n\u001b[0;32m     86\u001b[0m         \u001b[39mself\u001b[39;49m\u001b[39m.\u001b[39;49mactivation,\n\u001b[0;32m     87\u001b[0m         \u001b[39mself\u001b[39;49m\u001b[39m.\u001b[39;49mdt,\n\u001b[0;32m     88\u001b[0m         \u001b[39mself\u001b[39;49m\u001b[39m.\u001b[39;49minitial_state,\n\u001b[0;32m     89\u001b[0m         \u001b[39mself\u001b[39;49m\u001b[39m.\u001b[39;49mspiking_aware_training,\n\u001b[0;32m     90\u001b[0m         \u001b[39mself\u001b[39;49m\u001b[39m.\u001b[39;49mreturn_sequences,\n\u001b[0;32m     91\u001b[0m         \u001b[39mself\u001b[39;49m\u001b[39m.\u001b[39;49mtraining,\n\u001b[0;32m     92\u001b[0m     )\n",
      "File \u001b[1;32me:\\Anaconda\\envs\\pytorch\\lib\\site-packages\\torch\\autograd\\function.py:506\u001b[0m, in \u001b[0;36mFunction.apply\u001b[1;34m(cls, *args, **kwargs)\u001b[0m\n\u001b[0;32m    503\u001b[0m \u001b[39mif\u001b[39;00m \u001b[39mnot\u001b[39;00m torch\u001b[39m.\u001b[39m_C\u001b[39m.\u001b[39m_are_functorch_transforms_active():\n\u001b[0;32m    504\u001b[0m     \u001b[39m# See NOTE: [functorch vjp and autograd interaction]\u001b[39;00m\n\u001b[0;32m    505\u001b[0m     args \u001b[39m=\u001b[39m _functorch\u001b[39m.\u001b[39mutils\u001b[39m.\u001b[39munwrap_dead_wrappers(args)\n\u001b[1;32m--> 506\u001b[0m     \u001b[39mreturn\u001b[39;00m \u001b[39msuper\u001b[39;49m()\u001b[39m.\u001b[39;49mapply(\u001b[39m*\u001b[39;49margs, \u001b[39m*\u001b[39;49m\u001b[39m*\u001b[39;49mkwargs)  \u001b[39m# type: ignore[misc]\u001b[39;00m\n\u001b[0;32m    508\u001b[0m \u001b[39mif\u001b[39;00m \u001b[39mcls\u001b[39m\u001b[39m.\u001b[39msetup_context \u001b[39m==\u001b[39m _SingleLevelFunction\u001b[39m.\u001b[39msetup_context:\n\u001b[0;32m    509\u001b[0m     \u001b[39mraise\u001b[39;00m \u001b[39mRuntimeError\u001b[39;00m(\n\u001b[0;32m    510\u001b[0m         \u001b[39m'\u001b[39m\u001b[39mIn order to use an autograd.Function with functorch transforms \u001b[39m\u001b[39m'\u001b[39m\n\u001b[0;32m    511\u001b[0m         \u001b[39m'\u001b[39m\u001b[39m(vmap, grad, jvp, jacrev, ...), it must override the setup_context \u001b[39m\u001b[39m'\u001b[39m\n\u001b[0;32m    512\u001b[0m         \u001b[39m'\u001b[39m\u001b[39mstaticmethod. For more details, please see \u001b[39m\u001b[39m'\u001b[39m\n\u001b[0;32m    513\u001b[0m         \u001b[39m'\u001b[39m\u001b[39mhttps://pytorch.org/docs/master/notes/extending.func.html\u001b[39m\u001b[39m'\u001b[39m)\n",
      "File \u001b[1;32me:\\Anaconda\\envs\\pytorch\\lib\\site-packages\\pytorch_spiking\\functional.py:75\u001b[0m, in \u001b[0;36mSpikingActivation.forward\u001b[1;34m(ctx, inputs, activation, dt, initial_state, spiking_aware_training, return_sequences, training)\u001b[0m\n\u001b[0;32m     73\u001b[0m rates \u001b[39m=\u001b[39m activation(inputs) \u001b[39m*\u001b[39m dt\n\u001b[0;32m     74\u001b[0m \u001b[39mfor\u001b[39;00m i \u001b[39min\u001b[39;00m \u001b[39mrange\u001b[39m(inputs\u001b[39m.\u001b[39mshape[\u001b[39m1\u001b[39m]):\n\u001b[1;32m---> 75\u001b[0m     voltage \u001b[39m+\u001b[39m\u001b[39m=\u001b[39m rates[:, i]\n\u001b[0;32m     76\u001b[0m     n_spikes \u001b[39m=\u001b[39m torch\u001b[39m.\u001b[39mfloor(voltage)\n\u001b[0;32m     77\u001b[0m     voltage \u001b[39m-\u001b[39m\u001b[39m=\u001b[39m n_spikes\n",
      "\u001b[1;31mRuntimeError\u001b[0m: The size of tensor a (10) must match the size of tensor b (128) at non-singleton dimension 2"
     ]
    }
   ],
   "source": [
    "train(spiking_model, quantum_model, train_sequences, test_sequences)"
   ]
  }
 ],
 "metadata": {
  "kernelspec": {
   "display_name": "pytorch",
   "language": "python",
   "name": "python3"
  },
  "language_info": {
   "codemirror_mode": {
    "name": "ipython",
    "version": 3
   },
   "file_extension": ".py",
   "mimetype": "text/x-python",
   "name": "python",
   "nbconvert_exporter": "python",
   "pygments_lexer": "ipython3",
   "version": "3.8.16"
  },
  "orig_nbformat": 4
 },
 "nbformat": 4,
 "nbformat_minor": 2
}
